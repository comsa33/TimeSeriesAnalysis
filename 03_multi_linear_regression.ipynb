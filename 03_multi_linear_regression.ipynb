{
  "nbformat": 4,
  "nbformat_minor": 0,
  "metadata": {
    "colab": {
      "provenance": [],
      "authorship_tag": "ABX9TyOhxM3e7SNm5DOhhcXJSlmF",
      "include_colab_link": true
    },
    "kernelspec": {
      "name": "python3",
      "display_name": "Python 3"
    },
    "language_info": {
      "name": "python"
    }
  },
  "cells": [
    {
      "cell_type": "markdown",
      "metadata": {
        "id": "view-in-github",
        "colab_type": "text"
      },
      "source": [
        "<a href=\"https://colab.research.google.com/github/nhjung-phd/TimeSeriesAnalysis/blob/main/03_multi_linear_regression.ipynb\" target=\"_parent\"><img src=\"https://colab.research.google.com/assets/colab-badge.svg\" alt=\"Open In Colab\"/></a>"
      ]
    },
    {
      "cell_type": "markdown",
      "source": [
        "필요 라이브러리 설치 (Google Colab에서 실행 시 필요)"
      ],
      "metadata": {
        "id": "u42HjA1gkuTT"
      }
    },
    {
      "cell_type": "code",
      "execution_count": null,
      "metadata": {
        "id": "hwO7bu22jR8k"
      },
      "outputs": [],
      "source": [
        "!pip install yfinance numpy pandas matplotlib seaborn scikit-learn\n"
      ]
    },
    {
      "cell_type": "markdown",
      "source": [
        "라이브러리 불러오기"
      ],
      "metadata": {
        "id": "XQEU1duAkqFa"
      }
    },
    {
      "cell_type": "code",
      "source": [
        "import numpy as np\n",
        "import pandas as pd\n",
        "import yfinance as yf\n",
        "import matplotlib.pyplot as plt\n",
        "import seaborn as sns\n",
        "from sklearn.linear_model import LinearRegression\n",
        "from sklearn.model_selection import train_test_split\n",
        "from sklearn.preprocessing import StandardScaler\n",
        "from sklearn.metrics import mean_squared_error, r2_score"
      ],
      "metadata": {
        "id": "oSnUIakIkj8k"
      },
      "execution_count": null,
      "outputs": []
    },
    {
      "cell_type": "markdown",
      "source": [
        "테슬라(TSLA) 주가 데이터 다운로드 (최근 2년치)"
      ],
      "metadata": {
        "id": "D_j9T2WmkllC"
      }
    },
    {
      "cell_type": "code",
      "source": [
        "df = yf.download(\"TSLA\", start=\"2022-01-01\", end=\"2024-01-01\")"
      ],
      "metadata": {
        "id": "GAS6N0RakhdX"
      },
      "execution_count": null,
      "outputs": []
    },
    {
      "cell_type": "markdown",
      "source": [
        "데이터프레임 변환"
      ],
      "metadata": {
        "id": "0M27Teo1kftz"
      }
    },
    {
      "cell_type": "code",
      "source": [
        "df = df.reset_index()"
      ],
      "metadata": {
        "id": "LmTzvpkqkdty"
      },
      "execution_count": null,
      "outputs": []
    },
    {
      "cell_type": "markdown",
      "source": [
        "특징(Feature) 생성: 날짜를 숫자로 변환"
      ],
      "metadata": {
        "id": "DNdoAMW5kXc5"
      }
    },
    {
      "cell_type": "code",
      "source": [
        "df[\"Day\"] = np.arange(len(df))"
      ],
      "metadata": {
        "id": "0RhLoM4ikW__"
      },
      "execution_count": null,
      "outputs": []
    },
    {
      "cell_type": "markdown",
      "source": [
        "추가 Feature 생성: 이동 평균(Moving Average)"
      ],
      "metadata": {
        "id": "BecZyzm8kYNT"
      }
    },
    {
      "cell_type": "code",
      "source": [
        "df[\"MA_10\"] = df[\"Close\"].rolling(window=10).mean()  # 10일 이동 평균\n",
        "df[\"MA_20\"] = df[\"Close\"].rolling(window=20).mean()  # 20일 이동 평균"
      ],
      "metadata": {
        "id": "IW-Mmn9gkVSX"
      },
      "execution_count": null,
      "outputs": []
    },
    {
      "cell_type": "markdown",
      "source": [
        "결측치 처리 (이동 평균 계산으로 인한 NaN 값 제거)"
      ],
      "metadata": {
        "id": "mL7JslRrkTT4"
      }
    },
    {
      "cell_type": "code",
      "source": [
        "df = df.dropna()"
      ],
      "metadata": {
        "id": "pxt7aEGOkP8j"
      },
      "execution_count": null,
      "outputs": []
    },
    {
      "cell_type": "markdown",
      "source": [
        "독립 변수(X)와 종속 변수(Y) 정의"
      ],
      "metadata": {
        "id": "7dQkJBYzkQmB"
      }
    },
    {
      "cell_type": "code",
      "source": [
        "features = [\"Day\", \"MA_10\", \"MA_20\"]  # 다중 선형 회귀의 독립 변수들\n",
        "X = df[features]\n",
        "y = df[\"Close\"]  # 종속 변수: TSLA 종가"
      ],
      "metadata": {
        "id": "bGp0bMN8kMcH"
      },
      "execution_count": null,
      "outputs": []
    },
    {
      "cell_type": "markdown",
      "source": [
        "데이터 분할 (80% 학습, 20% 테스트)"
      ],
      "metadata": {
        "id": "NWjyNsp2kKdm"
      }
    },
    {
      "cell_type": "code",
      "source": [
        "X_train, X_test, y_train, y_test = train_test_split(X, y, test_size=0.2, shuffle=False)"
      ],
      "metadata": {
        "id": "XGm96tcQkIyg"
      },
      "execution_count": null,
      "outputs": []
    },
    {
      "cell_type": "markdown",
      "source": [
        "데이터 정규화 (선택 사항)"
      ],
      "metadata": {
        "id": "kukJboRwkHC3"
      }
    },
    {
      "cell_type": "code",
      "source": [
        "scaler = StandardScaler()\n",
        "X_train_scaled = scaler.fit_transform(X_train)\n",
        "X_test_scaled = scaler.transform(X_test)"
      ],
      "metadata": {
        "id": "lCNeUfQ3kEs8"
      },
      "execution_count": null,
      "outputs": []
    },
    {
      "cell_type": "markdown",
      "source": [
        "다중 선형 회귀 모델 학습"
      ],
      "metadata": {
        "id": "bGNkJvQgj61z"
      }
    },
    {
      "cell_type": "code",
      "source": [
        "model = LinearRegression()\n",
        "model.fit(X_train_scaled, y_train)"
      ],
      "metadata": {
        "id": "wXneqtUqj5T0"
      },
      "execution_count": null,
      "outputs": []
    },
    {
      "cell_type": "markdown",
      "source": [
        "예측 수행"
      ],
      "metadata": {
        "id": "UMasUc-6j3Qz"
      }
    },
    {
      "cell_type": "code",
      "source": [
        "y_pred = model.predict(X_test_scaled)"
      ],
      "metadata": {
        "id": "hJcEa1Umj1ck"
      },
      "execution_count": null,
      "outputs": []
    },
    {
      "cell_type": "markdown",
      "source": [
        "성능 평가"
      ],
      "metadata": {
        "id": "L-7-vqHbjxvN"
      }
    },
    {
      "cell_type": "code",
      "source": [
        "mse = mean_squared_error(y_test, y_pred)\n",
        "r2 = r2_score(y_test, y_pred)\n",
        "\n",
        "print(f\"📌 Mean Squared Error (MSE): {mse:.4f}\")\n",
        "print(f\"📌 R-squared (R²): {r2:.4f}\")\n"
      ],
      "metadata": {
        "id": "Hhv5Lqowjw8-"
      },
      "execution_count": null,
      "outputs": []
    },
    {
      "cell_type": "markdown",
      "source": [
        "결과 시각화"
      ],
      "metadata": {
        "id": "sKPgSFXPjnaS"
      }
    },
    {
      "cell_type": "code",
      "source": [
        "plt.figure(figsize=(10, 5))\n",
        "plt.plot(df[\"Date\"].iloc[len(X_train):], y_test, label=\"Actual\", color=\"black\")\n",
        "plt.plot(df[\"Date\"].iloc[len(X_train):], y_pred, label=\"Predicted (Multiple Linear Regression)\", color=\"red\")\n",
        "plt.title(\"Tesla Stock Price Prediction using Multiple Linear Regression\")\n",
        "plt.xlabel(\"Date\")\n",
        "plt.ylabel(\"Stock Price (USD)\")\n",
        "plt.legend()\n",
        "plt.show()"
      ],
      "metadata": {
        "id": "2cDYDPfujnyu"
      },
      "execution_count": null,
      "outputs": []
    }
  ]
}